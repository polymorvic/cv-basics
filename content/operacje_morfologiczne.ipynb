{
 "cells": [
  {
   "metadata": {
    "ExecuteTime": {
     "end_time": "2025-09-04T05:29:53.460425Z",
     "start_time": "2025-09-04T05:29:53.457989Z"
    }
   },
   "cell_type": "code",
   "source": [
    "import cv2\n",
    "import numpy as np\n",
    "import matplotlib.pyplot as plt\n",
    "from utils.image_array import NumpyImage\n",
    "from utils.func import morph_transform\n",
    "import matplotlib as mpl\n",
    "\n",
    "mpl.rcParams['image.cmap'] = 'binary'"
   ],
   "id": "9e8bde22ecbacaef",
   "outputs": [],
   "execution_count": 28
  },
  {
   "metadata": {},
   "cell_type": "markdown",
   "source": "### erozja",
   "id": "8047852b8d71c5b2"
  },
  {
   "metadata": {},
   "cell_type": "markdown",
   "source": [
    "\n",
    "\n",
    "to operacja przetwarzania obrazu, która \"kurczy\" jasne obszary obiektów na obrazie binarnym.\n",
    "\n",
    "#### Zasada działania\n",
    "\n",
    "- Usuwa piksele z krawędzi obiektów\n",
    "- Działa zgodnie z kształtem elementu strukturalnego (kernel)\n",
    "- Zmniejsza rozmiar białych obszarów na czarnym tle\n",
    "\n",
    "#### Zastosowania\n",
    "\n",
    "- Usuwanie szumu i małych artefaktów\n",
    "- Separowanie połączonych obiektów\n",
    "- Zmniejszanie grubości linii\n",
    "- Przygotowanie do dalszych operacji morfologicznych\n",
    "\n",
    "#### Przykład\n",
    "\n",
    "> Jeśli masz białą literę na czarnym tle, erozja zmniejszy jej grubość lub może całkowicie usunąć cienkie elementy jak kropki nad \"i\".\n",
    "\n",
    "#### Powiązane operacje\n",
    "\n",
    "Erozja jest często parowana z **dylacją** (dilation) - operacją odwrotną, która rozszerza obiekty. Kombinacja tych operacji tworzy bardziej złożone filtry morfologiczne jak **opening** i **closing**.\n",
    "\n",
    "![](assets/erode.png)"
   ],
   "id": "e6fa5e575348492c"
  },
  {
   "metadata": {
    "ExecuteTime": {
     "end_time": "2025-09-04T05:09:59.615760Z",
     "start_time": "2025-09-04T05:09:59.579998Z"
    }
   },
   "cell_type": "code",
   "source": [
    "img = np.array(\n",
    "    [\n",
    "        [0, 0, 1, 0, 0, 0, 0, 0, 0, 1],\n",
    "        [0, 0, 0, 0, 0, 0, 0, 0, 0, 0],\n",
    "        [0, 0, 1, 1, 1, 1, 1, 1, 1, 0],\n",
    "        [0, 0, 1, 1, 1, 1, 1, 1, 1, 0],\n",
    "        [0, 0, 1, 1, 1, 1, 1, 1, 1, 0],\n",
    "        [0, 0, 1, 1, 1, 1, 1, 1, 1, 0],\n",
    "        [0, 0, 1, 1, 1, 1, 1, 1, 1, 0],\n",
    "        [0, 0, 0, 0, 0, 0, 0, 0, 0, 0],\n",
    "        [0, 0, 0, 0, 0, 0, 1, 0, 0, 0],\n",
    "        [0, 1, 0, 1, 1, 0, 0, 0, 0, 0],\n",
    "    ],\n",
    "    dtype='uint8',\n",
    ")\n",
    "plt.imshow(img)\n",
    "plt.show()"
   ],
   "id": "e98eb1914d2f2cf2",
   "outputs": [
    {
     "data": {
      "text/plain": [
       "<Figure size 640x480 with 1 Axes>"
      ],
      "image/png": "[encoded data removed]"
     },
     "metadata": {},
     "output_type": "display_data"
    }
   ],
   "execution_count": 17
  },
  {
   "metadata": {
    "ExecuteTime": {
     "end_time": "2025-09-04T05:10:04.316526Z",
     "start_time": "2025-09-04T05:10:04.278417Z"
    }
   },
   "cell_type": "code",
   "source": [
    "kernel = np.ones((3, 3), np.uint8)\n",
    "eroded_img_custom = morph_transform(img, kernel)\n",
    "\n",
    "plt.imshow(eroded_img_custom)\n",
    "plt.show()"
   ],
   "id": "cf67e7b50967bdef",
   "outputs": [
    {
     "data": {
      "text/plain": [
       "<Figure size 640x480 with 1 Axes>"
      ],
      "image/png": "[encoded data removed]"
     },
     "metadata": {},
     "output_type": "display_data"
    }
   ],
   "execution_count": 18
  },
  {
   "metadata": {
    "ExecuteTime": {
     "end_time": "2025-09-04T05:10:09.430103Z",
     "start_time": "2025-09-04T05:10:09.395285Z"
    }
   },
   "cell_type": "code",
   "source": [
    "kernel = cv2.getStructuringElement(cv2.MORPH_RECT, (3, 3))\n",
    "eroded_img_cv_1 = cv2.erode(img, kernel)\n",
    "\n",
    "plt.imshow(eroded_img_cv_1)\n",
    "plt.show()"
   ],
   "id": "a095eeae7ab0cb07",
   "outputs": [
    {
     "data": {
      "text/plain": [
       "<Figure size 640x480 with 1 Axes>"
      ],
      "image/png": "[encoded data removed]"
     },
     "metadata": {},
     "output_type": "display_data"
    }
   ],
   "execution_count": 19
  },
  {
   "metadata": {
    "ExecuteTime": {
     "end_time": "2025-09-04T05:10:13.967360Z",
     "start_time": "2025-09-04T05:10:13.964250Z"
    }
   },
   "cell_type": "code",
   "source": "np.array_equal(eroded_img_custom,eroded_img_cv_1)",
   "id": "6b1e21941827f0d3",
   "outputs": [
    {
     "data": {
      "text/plain": [
       "True"
      ]
     },
     "execution_count": 20,
     "metadata": {},
     "output_type": "execute_result"
    }
   ],
   "execution_count": 20
  },
  {
   "metadata": {
    "ExecuteTime": {
     "end_time": "2025-09-04T05:10:40.846104Z",
     "start_time": "2025-09-04T05:10:40.843137Z"
    }
   },
   "cell_type": "code",
   "source": "eroded_img_cv_2 = cv2.morphologyEx(img, cv2.MORPH_ERODE, kernel)",
   "id": "314fa83933ab8c3",
   "outputs": [],
   "execution_count": 21
  },
  {
   "metadata": {
    "ExecuteTime": {
     "end_time": "2025-09-04T05:10:55.484670Z",
     "start_time": "2025-09-04T05:10:55.482474Z"
    }
   },
   "cell_type": "code",
   "source": "np.array_equal(eroded_img_custom, eroded_img_cv_2)",
   "id": "70873e22aff177d7",
   "outputs": [
    {
     "data": {
      "text/plain": [
       "True"
      ]
     },
     "execution_count": 22,
     "metadata": {},
     "output_type": "execute_result"
    }
   ],
   "execution_count": 22
  },
  {
   "metadata": {},
   "cell_type": "markdown",
   "source": "### dylatacja",
   "id": "ed9cac15706a69a8"
  },
  {
   "metadata": {},
   "cell_type": "markdown",
   "source": [
    "operacja przetwarzania obrazu, która \"rozszerza\" jasne obszary obiektów na obrazie binarnym\n",
    "\n",
    "#### Zasada działania\n",
    "\n",
    "- Dodaje piksele do krawędzi obiektów\n",
    "- Działa zgodnie z kształtem elementu strukturalnego (kernel)\n",
    "- Zwiększa rozmiar białych obszarów na czarnym tle\n",
    "- Jest operacją odwrotną do erozji\n",
    "\n",
    "#### Zastosowania\n",
    "\n",
    "- Wypełnianie małych dziur w obiektach\n",
    "- Łączenie blisko siebie położonych elementów\n",
    "- Zwiększanie grubości linii\n",
    "- Rekonstrukcja obiektów po erozji\n",
    "- Wygładzanie krawędzi obiektów\n",
    "\n",
    "#### Przykład\n",
    "\n",
    "> Jeśli masz białą literę z przerwami na czarnym tle, dylatacja może zamknąć te przerwy i sprawić, że litera będzie bardziej zwarta i czytelna.\n",
    "\n",
    "#### Powiązane operacje\n",
    "\n",
    "Dylatacja jest często używana w kombinacji z **erozją**:\n",
    "- **Opening** = erozja + dylatacja (usuwa szum, zachowuje kształt)\n",
    "- **Closing** = dylatacja + erozja (wypełnia dziury, łączy obiekty)\n",
    "\n",
    "#### Erozja vs Dylatacja\n",
    "\n",
    "| Erozja | Dylatacja |\n",
    "|--------|-----------|\n",
    "| Kurczy obiekty | Rozszerza obiekty |\n",
    "| Usuwa szum | Wypełnia dziury |\n",
    "| Rozdziela obiekty | Łączy obiekty |\n",
    "| Zmniejsza grubość | Zwiększa grubość |\n",
    "\n",
    "![](assets/dilate.png)"
   ],
   "id": "2afe7455bfd2c972"
  },
  {
   "metadata": {
    "ExecuteTime": {
     "end_time": "2025-09-04T05:29:58.091752Z",
     "start_time": "2025-09-04T05:29:58.059171Z"
    }
   },
   "cell_type": "code",
   "source": [
    "img = np.array(\n",
    "    [\n",
    "        [0, 0, 1, 0, 0, 0, 0, 0, 0, 1],\n",
    "        [0, 0, 0, 0, 0, 0, 0, 0, 0, 0],\n",
    "        [0, 0, 1, 1, 1, 1, 1, 1, 1, 0],\n",
    "        [0, 0, 1, 1, 1, 1, 1, 1, 1, 0],\n",
    "        [0, 0, 1, 1, 1, 1, 1, 1, 1, 0],\n",
    "        [0, 0, 1, 1, 1, 1, 1, 1, 1, 0],\n",
    "        [0, 0, 1, 1, 1, 1, 1, 1, 1, 0],\n",
    "        [0, 0, 0, 0, 0, 0, 0, 0, 0, 0],\n",
    "        [0, 0, 0, 0, 0, 0, 1, 0, 0, 0],\n",
    "        [0, 1, 0, 1, 1, 0, 0, 0, 0, 0],\n",
    "    ],\n",
    "    dtype='uint8',\n",
    ")\n",
    "plt.imshow(img)\n",
    "plt.show()"
   ],
   "id": "3ae12a89d439d7d",
   "outputs": [
    {
     "data": {
      "text/plain": [
       "<Figure size 640x480 with 1 Axes>"
      ],
      "image/png": "[encoded data removed]"
     },
     "metadata": {},
     "output_type": "display_data"
    }
   ],
   "execution_count": 29
  },
  {
   "metadata": {
    "ExecuteTime": {
     "end_time": "2025-09-04T05:31:28.912136Z",
     "start_time": "2025-09-04T05:31:28.874620Z"
    }
   },
   "cell_type": "code",
   "source": [
    "kernel = np.ones((3, 3), np.uint8)\n",
    "dilated_img_custom = morph_transform(img, kernel, op='dilate')\n",
    "\n",
    "print(dilated_img_custom)\n",
    "plt.imshow(dilated_img_custom)\n",
    "plt.show()"
   ],
   "id": "b3e836b1a5797fde",
   "outputs": [
    {
     "name": "stdout",
     "output_type": "stream",
     "text": [
      "[[0 1 1 1 0 0 0 0 1 1]\n",
      " [0 1 1 1 1 1 1 1 1 1]\n",
      " [0 1 1 1 1 1 1 1 1 1]\n",
      " [0 1 1 1 1 1 1 1 1 1]\n",
      " [0 1 1 1 1 1 1 1 1 1]\n",
      " [0 1 1 1 1 1 1 1 1 1]\n",
      " [0 1 1 1 1 1 1 1 1 1]\n",
      " [0 1 1 1 1 1 1 1 1 1]\n",
      " [1 1 1 1 1 1 1 1 0 0]\n",
      " [1 1 1 1 1 1 1 1 0 0]]\n"
     ]
    },
    {
     "data": {
      "text/plain": [
       "<Figure size 640x480 with 1 Axes>"
      ],
      "image/png": "[encoded data removed]"
     },
     "metadata": {},
     "output_type": "display_data"
    }
   ],
   "execution_count": 31
  },
  {
   "metadata": {
    "ExecuteTime": {
     "end_time": "2025-09-04T05:31:42.485926Z",
     "start_time": "2025-09-04T05:31:42.483250Z"
    }
   },
   "cell_type": "code",
   "source": [
    "kernel = cv2.getStructuringElement(cv2.MORPH_RECT, (3, 3))\n",
    "dilated_img_cv_1 = cv2.dilate(img, kernel)\n",
    "dilated_img_cv_2 = cv2.morphologyEx(img, cv2.MORPH_DILATE, kernel)"
   ],
   "id": "2861ffa0d840bb3d",
   "outputs": [],
   "execution_count": 32
  },
  {
   "metadata": {
    "ExecuteTime": {
     "end_time": "2025-09-04T05:32:02.527123Z",
     "start_time": "2025-09-04T05:32:02.523919Z"
    }
   },
   "cell_type": "code",
   "source": [
    "print(np.array_equal(dilated_img_custom, dilated_img_cv_1))\n",
    "np.array_equal(dilated_img_custom, dilated_img_cv_2)"
   ],
   "id": "d52d2450faa20779",
   "outputs": [
    {
     "name": "stdout",
     "output_type": "stream",
     "text": [
      "True\n"
     ]
    },
    {
     "data": {
      "text/plain": [
       "True"
      ]
     },
     "execution_count": 34,
     "metadata": {},
     "output_type": "execute_result"
    }
   ],
   "execution_count": 34
  },
  {
   "metadata": {},
   "cell_type": "code",
   "outputs": [],
   "execution_count": null,
   "source": "",
   "id": "61894650b4ede0d2"
  },
  {
   "metadata": {},
   "cell_type": "code",
   "outputs": [],
   "execution_count": null,
   "source": "",
   "id": "379345bcc6f70b1b"
  },
  {
   "metadata": {},
   "cell_type": "markdown",
   "source": "### opening",
   "id": "6e21e94984e616ca"
  },
  {
   "metadata": {
    "ExecuteTime": {
     "end_time": "2025-09-04T05:03:36.731935Z",
     "start_time": "2025-09-04T05:03:36.730803Z"
    }
   },
   "cell_type": "code",
   "source": "\n",
   "id": "43e6a73b16e2eb42",
   "outputs": [],
   "execution_count": 3
  },
  {
   "metadata": {
    "ExecuteTime": {
     "end_time": "2025-09-04T05:03:36.739399Z",
     "start_time": "2025-09-04T05:03:36.738279Z"
    }
   },
   "cell_type": "code",
   "source": "\n",
   "id": "52b7acfd28fd45d9",
   "outputs": [],
   "execution_count": 3
  },
  {
   "metadata": {},
   "cell_type": "markdown",
   "source": "### closing\n",
   "id": "4d5869e93191675a"
  },
  {
   "metadata": {},
   "cell_type": "markdown",
   "source": "### gradient morfologiczny",
   "id": "7ccb263086d409d0"
  },
  {
   "metadata": {},
   "cell_type": "markdown",
   "source": "### white/top hat",
   "id": "94906ddba407cd5c"
  },
  {
   "metadata": {},
   "cell_type": "markdown",
   "source": "### black hat",
   "id": "e2bd8009adc0e2bd"
  },
  {
   "metadata": {
    "ExecuteTime": {
     "end_time": "2025-09-04T05:03:36.745197Z",
     "start_time": "2025-09-04T05:03:36.743923Z"
    }
   },
   "cell_type": "code",
   "source": "",
   "id": "c0e209c3cfa528d5",
   "outputs": [],
   "execution_count": null
  }
 ],
 "metadata": {
  "kernelspec": {
   "display_name": "Python 3",
   "language": "python",
   "name": "python3"
  },
  "language_info": {
   "codemirror_mode": {
    "name": "ipython",
    "version": 2
   },
   "file_extension": ".py",
   "mimetype": "text/x-python",
   "name": "python",
   "nbconvert_exporter": "python",
   "pygments_lexer": "ipython2",
   "version": "2.7.6"
  }
 },
 "nbformat": 4,
 "nbformat_minor": 5
}
